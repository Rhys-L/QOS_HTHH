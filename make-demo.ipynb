{
 "cells": [
  {
   "cell_type": "code",
   "execution_count": 1,
   "metadata": {},
   "outputs": [],
   "source": [
    "import leafmap.foliumap as leafmap\n",
    "import rasterio\n",
    "import geopandas as gpd\n",
    "import pandas as pd\n",
    "import os\n",
    "import glob\n",
    "import datetime\n",
    "from datetime import datetime\n",
    "import numpy as np"
   ]
  },
  {
   "cell_type": "code",
   "execution_count": 12,
   "metadata": {},
   "outputs": [],
   "source": [
    "omi_data = os.path.join(os.getcwd(), \"omi-so2\")\n",
    "omps_data = os.path.join(os.getcwd(), \"omps-inputs\")"
   ]
  },
  {
   "cell_type": "markdown",
   "metadata": {},
   "source": [
    "### Load OMI Tiles"
   ]
  },
  {
   "cell_type": "code",
   "execution_count": 13,
   "metadata": {},
   "outputs": [],
   "source": [
    "omi_input_16 = os.path.join(omi_data,'OMI-Aura_L3-OMSO2e_ColumnAmountSO2_2022_1_16_8bit.tif')\n",
    "omi_input_30 = os.path.join(omi_data,'OMI-Aura_L3-OMSO2e_ColumnAmountSO2_2022_1_30_8bit.tif')\n",
    "\n",
    "omi_mask_bright_16 = os.path.join(omi_data,'mask_OMI-Aura_L3-OMSO2e_ColumnAmountSO2_2022_1_16_8bit_brightest_multimask_false_36.tif')\n",
    "omi_mask_bright_30 = os.path.join(omi_data,'mask_OMI-Aura_L3-OMSO2e_ColumnAmountSO2_2022_1_30_8bit_brightest_multimask_false_36.tif')\n",
    "\n",
    "omi_mask_calipso_16 = os.path.join(omi_data,'mask_OMI-Aura_L3-OMSO2e_ColumnAmountSO2_2022_1_16_8bit_calipso_rev2_lon_lat87.tif')\n",
    "omi_mask_calipso_30 = os.path.join(omi_data,'mask_OMI-Aura_L3-OMSO2e_ColumnAmountSO2_2022_1_30_8bit_calipso_rev2_constraint1297.tif')"
   ]
  },
  {
   "cell_type": "markdown",
   "metadata": {},
   "source": [
    "### Load OMPS Tiles"
   ]
  },
  {
   "cell_type": "code",
   "execution_count": 14,
   "metadata": {},
   "outputs": [],
   "source": [
    "omps_input_16 = os.path.join(omps_data,'clipped_OMPS-NPP_LP-L2-AER-DAILY_v2.1_2022m0116_2022m0512t115646.tif')\n",
    "omps_input_30 = os.path.join(omps_data,'clipped_OMPS-NPP_LP-L2-AER-DAILY_v2.1_2022m0130_2022m0512t115721.tif',)\n",
    "\n",
    "omps_mask_bright_16 = os.path.join(omps_data,'mask_OMPS-NPP_LP-L2-AER-DAILY_v2.1_2022m0116_brightest_multimask_false_36.tif')\n",
    "omps_mask_bright_16_500 = os.path.join(omps_data,'mask_OMPS-NPP_LP-L2-AER-DAILY_v2.1_2022m0116_brightest_multimask_false_500.tif')\n",
    "\n",
    "omps_mask_bright_30 = os.path.join(omps_data,'mask_OMPS-NPP_LP-L2-AER-DAILY_v2.1_2022m0130_brightest_multimask_false_36.tif')\n",
    "omps_mask_bright_30_500 = os.path.join(omps_data,'mask_OMPS-NPP_LP-L2-AER-DAILY_v2.1_2022m0130_brightest_multimask_false_500.tif')\n",
    "\n",
    "\n",
    "omps_mask_calipso_16 = os.path.join(omps_data,'mask_OMPS-NPP_LP-L2-AER-DAILY_v2.1_2022m0116_calipso_multimask_false_4.tif')\n",
    "omps_mask_calipso_30 = os.path.join(omps_data,'mask_OMPS-NPP_LP-L2-AER-DAILY_v2.1_2022m0130_calipso_multimask_false_1297.tif')"
   ]
  },
  {
   "cell_type": "markdown",
   "metadata": {},
   "source": [
    "### Prompt Brightest Pixels"
   ]
  },
  {
   "cell_type": "code",
   "execution_count": 15,
   "metadata": {},
   "outputs": [],
   "source": [
    "def get_brightest_pixels(image_path, num_pixels=5):\n",
    "    \"\"\"\n",
    "    Takes path to a raster image and count of x pixels to sample.\n",
    "    Returns list of geo-coordinates of top x brightest pixels.\n",
    "    List of coords can be used as input to segmentation model. \n",
    "    \"\"\"\n",
    "    # Open the TIFF image using rasterio\n",
    "    with rasterio.open(image_path) as src:\n",
    "         # Get the number of bands in the image and read data as numpy arr\n",
    "        num_bands = src.count\n",
    "        # Read the image data from the first band\n",
    "        if num_bands == 1:\n",
    "            image_data = src.read(1)\n",
    "        elif num_bands == 2:\n",
    "            # Read the image data from the second band to use so2 for training data\n",
    "            image_data = src.read(2)\n",
    "        else:\n",
    "            raise ValueError(\"Image must have either 1 or 2 bands\")\n",
    "\n",
    "        # Find the indices of the pixels with the highest values\n",
    "        flat_indices = np.argpartition(image_data.flatten(), -num_pixels)[-num_pixels:]\n",
    "        max_indices = np.unravel_index(flat_indices, image_data.shape)\n",
    "        max_indices = np.column_stack(max_indices)\n",
    "\n",
    "        # Convert the pixel indices to coordinates using the image's geotransform\n",
    "\n",
    "        coords = [(lon, lat) for lon, lat in [src.xy(row, col) for row, col in max_indices]]\n",
    "        #print(coords)\n",
    "        geometries = [Point(lat, lon) for lat, lon in coords]\n",
    "\n",
    "        # Create a GeoDataFrame from the geometries\n",
    "        gdf = gpd.GeoDataFrame(geometry=geometries, crs=src.crs)\n",
    "\n",
    "\n",
    "    return gdf"
   ]
  },
  {
   "cell_type": "code",
   "execution_count": 16,
   "metadata": {},
   "outputs": [
    {
     "ename": "NameError",
     "evalue": "name 'Point' is not defined",
     "output_type": "error",
     "traceback": [
      "\u001b[0;31m---------------------------------------------------------------------------\u001b[0m",
      "\u001b[0;31mNameError\u001b[0m                                 Traceback (most recent call last)",
      "Cell \u001b[0;32mIn[16], line 1\u001b[0m\n\u001b[0;32m----> 1\u001b[0m omi_bright_prompt_16 \u001b[38;5;241m=\u001b[39m \u001b[43mget_brightest_pixels\u001b[49m\u001b[43m(\u001b[49m\u001b[43momi_input_16\u001b[49m\u001b[43m,\u001b[49m\u001b[43m \u001b[49m\u001b[38;5;241;43m36\u001b[39;49m\u001b[43m)\u001b[49m\n\u001b[1;32m      2\u001b[0m omi_bright_prompt_30 \u001b[38;5;241m=\u001b[39m get_brightest_pixels(omi_input_30, \u001b[38;5;241m36\u001b[39m)\n",
      "Cell \u001b[0;32mIn[15], line 29\u001b[0m, in \u001b[0;36mget_brightest_pixels\u001b[0;34m(image_path, num_pixels)\u001b[0m\n\u001b[1;32m     27\u001b[0m coords \u001b[38;5;241m=\u001b[39m [(lon, lat) \u001b[38;5;28;01mfor\u001b[39;00m lon, lat \u001b[38;5;129;01min\u001b[39;00m [src\u001b[38;5;241m.\u001b[39mxy(row, col) \u001b[38;5;28;01mfor\u001b[39;00m row, col \u001b[38;5;129;01min\u001b[39;00m max_indices]]\n\u001b[1;32m     28\u001b[0m \u001b[38;5;66;03m#print(coords)\u001b[39;00m\n\u001b[0;32m---> 29\u001b[0m geometries \u001b[38;5;241m=\u001b[39m [\u001b[43mPoint\u001b[49m(lat, lon) \u001b[38;5;28;01mfor\u001b[39;00m lat, lon \u001b[38;5;129;01min\u001b[39;00m coords]\n\u001b[1;32m     31\u001b[0m \u001b[38;5;66;03m# Create a GeoDataFrame from the geometries\u001b[39;00m\n\u001b[1;32m     32\u001b[0m gdf \u001b[38;5;241m=\u001b[39m gpd\u001b[38;5;241m.\u001b[39mGeoDataFrame(geometry\u001b[38;5;241m=\u001b[39mgeometries, crs\u001b[38;5;241m=\u001b[39msrc\u001b[38;5;241m.\u001b[39mcrs)\n",
      "\u001b[0;31mNameError\u001b[0m: name 'Point' is not defined"
     ]
    }
   ],
   "source": [
    "omi_bright_prompt_16 = get_brightest_pixels(omi_input_16, 36)\n",
    "omi_bright_prompt_30 = get_brightest_pixels(omi_input_30, 36)"
   ]
  }
 ],
 "metadata": {
  "kernelspec": {
   "display_name": "samgeo",
   "language": "python",
   "name": "python3"
  },
  "language_info": {
   "codemirror_mode": {
    "name": "ipython",
    "version": 3
   },
   "file_extension": ".py",
   "mimetype": "text/x-python",
   "name": "python",
   "nbconvert_exporter": "python",
   "pygments_lexer": "ipython3",
   "version": "3.12.2"
  }
 },
 "nbformat": 4,
 "nbformat_minor": 2
}
